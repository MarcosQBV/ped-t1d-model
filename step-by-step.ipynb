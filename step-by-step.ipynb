{
 "cells": [
  {
   "cell_type": "markdown",
   "metadata": {},
   "source": [
    "We start by defining a couple of variables which will be necessary to run the code in this notebook. \n",
    "The `model_params` data frame will contain data that is to be set by the user. Variables outside of the data frame are needed for the functions to run, but will be later defined somewhere else. "
   ]
  },
  {
   "cell_type": "code",
   "execution_count": 1,
   "metadata": {
    "vscode": {
     "languageId": "r"
    }
   },
   "outputs": [],
   "source": [
    "model_params <- data.frame(\n",
    "  # age at baseline\n",
    "  n_age_init = 1,\n",
    "  # maximum age of follow up\n",
    "  n_age_max  = 8,\n",
    "  # discount rate for costs and QALYS \n",
    "  d_r = 0.04,\n",
    "  # number of simulations\n",
    "  n_sim   = 1000\n",
    ")\n",
    "\n",
    "n_t <- model_params$n_age_max - model_params$n_age_init\n",
    "\n",
    "model_params$n_t <- n_t\n",
    "\n",
    "# the 4 health states of the model:\n",
    "v_n <- c(\"S2\", \"S3\", \"D\") \n",
    "\n",
    "# number of health states \n",
    "n_states <- length(v_n) \n"
   ]
  },
  {
   "cell_type": "markdown",
   "metadata": {},
   "source": [
    "This is a data frame containing more parameters that are to be set by the user. Specifically, these parameters relate to probabilistic sensitivity analysis (PSA). They define a probability distribution that will be used to randomly generate data for each parameter, a given number of times. Parameters in health economics models must be defined and duly justified according to real world evidence (RWE), commonly from sources such as randomized controlled trials (RCTs). Using PSA allows us to account for uncertainty in our data, increasing confidence in our results.\n",
    "\n",
    "As of january 12th, 2025, the data set here are arbitrary, simply to demonstrate that the model works. Later, it will be replaced by duly justified data. "
   ]
  },
  {
   "cell_type": "code",
   "execution_count": 2,
   "metadata": {
    "vscode": {
     "languageId": "r"
    }
   },
   "outputs": [],
   "source": [
    "library(truncnorm)\n",
    "\n",
    "default_psa_params <- list(\n",
    "  # prob Stage 2 -> Stage 3 if untreated\n",
    "  p_S2_S3_unt = list(\n",
    "    name = \"P(S2 → S3) if untreated\",\n",
    "    def_dis = \"beta\", \n",
    "    def_v1 = \"30\", \n",
    "    def_v2 = \"170\"\n",
    "  ),\n",
    "  \n",
    "  # rate ratio Stage 2 -> Stage 3 treated/untreated\n",
    "  hr_S2_S3 = list(\n",
    "    name = \"Hazard Ratio for P(S2 → S3) Treated/Untreated\",\n",
    "    def_dis = \"normal\", \n",
    "    def_v1 = \"0.7\", \n",
    "    def_v2 = \"0.3\"\n",
    "  ),\n",
    "  \n",
    "  # prob Stage 2 -> Dead\n",
    "  p_S2_D = list(\n",
    "    name = \"P(S2 → Dead)\",\n",
    "    def_dis = \"beta\", \n",
    "    def_v1 = \"1\", \n",
    "    def_v2 = \"1990\"\n",
    "  ),\n",
    "  \n",
    "  # rate ratio death Stage 3 vs Stage 2\n",
    "  hr_S3_D = list(\n",
    "    name = \"Hazard Ratio for death S3/S2\",\n",
    "    def_dis = \"normal\", \n",
    "    def_v1 = \"0.1\", \n",
    "    def_v2 = \"0.03\"\n",
    "  ),\n",
    "  \n",
    "  # cost p/cycle in state S2\n",
    "  c_S2 = list(\n",
    "    name = \"Cost per cycle in Stage 2\",\n",
    "    def_dis = \"gamma\", \n",
    "    def_v1 = \"100\", \n",
    "    def_v2 = \"20\"\n",
    "  ),\n",
    "  \n",
    "  # cost p/cycle in state S3\n",
    "  c_S3 = list(\n",
    "    name = \"Cost per cycle in Stage 3\",\n",
    "    def_dis = \"gamma\", \n",
    "    def_v1 = \"177.8\", \n",
    "    def_v2 = \"22.5\"\n",
    "  ),\n",
    "  \n",
    "  # cost p/cycle of treatment in state S2\n",
    "  c_Trt_S2 = list(\n",
    "    name = \"Cost of treatment in Stage 2\",\n",
    "    def_dis = \"fixed\", \n",
    "    def_v1 = \"200\", \n",
    "    def_v2 = \"\"\n",
    "  ),\n",
    "  \n",
    "  # cost p/cycle of treatment in state S3 (we stop treating in S3)\n",
    "  c_Trt_S3 = list(\n",
    "    name = \"Cost of treatment in Stage 3\",\n",
    "    def_dis = \"fixed\", \n",
    "    def_v1 = \"0\", \n",
    "    def_v2 = \"\"\n",
    "  ),\n",
    "\n",
    "  # cost p/cycle in state D (fixed value)\n",
    "  c_D = list(\n",
    "    name = \"Cost of Death\",\n",
    "    def_dis = \"fixed\", \n",
    "    def_v1 = \"0\", \n",
    "    def_v2 = \"\"\n",
    "  ),\n",
    "  \n",
    "  # utility when stage 2\n",
    "  u_S2 = list(\n",
    "    name = \"Utility in Stage 2\",\n",
    "    def_dis = \"normal\", \n",
    "    def_v1 = \"1\", \n",
    "    def_v2 = \"0.01\"\n",
    "  ),\n",
    "  \n",
    "  # utility when stage 3\n",
    "  u_S3 = list(\n",
    "    name = \"Utility in Stage 3\",\n",
    "    def_dis = \"normal\", \n",
    "    def_v1 = \"0.75\", \n",
    "    def_v2 = \"0.02\"\n",
    "  ),\n",
    "  \n",
    "  # utility when dead\n",
    "  u_D = list(\n",
    "    name = \"Utility when dead\",\n",
    "    def_dis = \"fixed\", \n",
    "    def_v1 = \"0\", \n",
    "    def_v2 = \"\"\n",
    "  )\n",
    ")\n"
   ]
  },
  {
   "cell_type": "markdown",
   "metadata": {},
   "source": [
    "We start by generating a data frame of parameters according to our probability distribution, containing `n-sim` rows (`n-sim` being a property of the previously set `model_params` data frame) : this corresponds to the number of times our model is to be run, currently set to 1000."
   ]
  },
  {
   "cell_type": "code",
   "execution_count": 3,
   "metadata": {
    "vscode": {
     "languageId": "r"
    }
   },
   "outputs": [],
   "source": [
    "f_gen_psa <- function(psa_params, model_params) {\n",
    "  # Initialize an empty list to store the generated data\n",
    "  df_list <- list()\n",
    "  \n",
    "  # Iterate over each parameter in the psa_params list\n",
    "  for (param_name in names(psa_params)) {\n",
    "    param_info <- psa_params[[param_name]]\n",
    "    dist_type <- param_info$def_dis\n",
    "    v1 <- as.numeric(param_info$def_v1)\n",
    "    v2 <- as.numeric(param_info$def_v2)\n",
    "    \n",
    "    # Generate samples based on the distribution type\n",
    "    samples <- switch(dist_type,\n",
    "      \"beta\" = rbeta(n = model_params$n_sim, shape1 = v1, shape2 = v2),\n",
    "      \"log_normal\" = rlnorm(n = model_params$n_sim, meanlog = log(v1), sdlog = v2),\n",
    "      \"normal\" = rnorm(n = model_params$n_sim, mean = v1, sd = v2),\n",
    "      \"gamma\" = rgamma(n = model_params$n_sim, shape = v1, rate = 1/v2),\n",
    "      \"fixed\" = rep(v1, model_params$n_sim),\n",
    "      stop(\"Unsupported distribution type\")\n",
    "    )\n",
    "    \n",
    "    # Store the samples in the list with the parameter name\n",
    "    df_list[[param_name]] <- samples\n",
    "  }\n",
    "  \n",
    "  # Convert the list to a data frame\n",
    "  df <- as.data.frame(df_list)\n",
    "  return(df)\n",
    "}"
   ]
  },
  {
   "cell_type": "markdown",
   "metadata": {},
   "source": [
    "When we print out the head and dimensions of this PSA data frame, we can see that it contains 1000 rows and 12 columns. Each row corresponds to one of our generated patients, and their parameters all differ slightly."
   ]
  },
  {
   "cell_type": "code",
   "execution_count": 5,
   "metadata": {
    "vscode": {
     "languageId": "r"
    }
   },
   "outputs": [
    {
     "name": "stdout",
     "output_type": "stream",
     "text": [
      "[1] \"rows: 1000   columns: 12\"\n"
     ]
    },
    {
     "name": "stdout",
     "output_type": "stream",
     "text": [
      "  p_S2_S3_unt  hr_S2_S3       p_S2_D    hr_S3_D     c_S2     c_S3 c_Trt_S2\n",
      "1   0.1391695 0.7276875 5.268306e-05 0.11924909 1845.357 4032.251      200\n",
      "2   0.1494417 0.9359672 1.477189e-04 0.11288899 2052.895 3819.168      200\n",
      "3   0.1849718 0.6881810 2.289227e-05 0.06552596 1894.417 4096.676      200\n",
      "4   0.1623579 0.7944042 1.245705e-03 0.11334684 2036.821 3876.154      200\n",
      "5   0.1320931 0.2627625 3.503446e-04 0.08177929 2056.848 3845.596      200\n",
      "6   0.1450146 0.3298773 2.064830e-04 0.07501609 1755.131 3983.651      200\n",
      "  c_Trt_S3 c_D      u_S2      u_S3 u_D\n",
      "1        0   0 1.0146819 0.7177388   0\n",
      "2        0   0 0.9922415 0.7963175   0\n",
      "3        0   0 0.9982299 0.7453033   0\n",
      "4        0   0 1.0051137 0.7378315   0\n",
      "5        0   0 0.9954517 0.7843815   0\n",
      "6        0   0 1.0133173 0.7461986   0\n"
     ]
    }
   ],
   "source": [
    "df_psa <- f_gen_psa(default_psa_params, model_params)\n",
    "\n",
    "print(paste(\"rows:\", dim(df_psa)[1], \"  columns:\", dim(df_psa)[2]))\n",
    "print(head(df_psa))"
   ]
  },
  {
   "cell_type": "markdown",
   "metadata": {},
   "source": [
    "Next, we calculate our transition probabilities for S2 to S3 when treated, and for S3 to dead compared with S2 to dead. These probabilities aren't directly set as parameters, rather, we set hazard ratios which themselves have a probability distribution. This allows us to account for uncertainty in parameters that are key to evaluating the treatment's performance."
   ]
  },
  {
   "cell_type": "code",
   "execution_count": 6,
   "metadata": {
    "vscode": {
     "languageId": "r"
    }
   },
   "outputs": [],
   "source": [
    "# Calculate transition rates and probabilities\n",
    "calculate_transition_rates <- function(psa_table_row) {\n",
    "  with(as.list(psa_table_row), {\n",
    "    r_S2_S3_unt <- -log(1 - p_S2_S3_unt)\n",
    "    r_S2_S3_trt <- hr_S2_S3 * r_S2_S3_unt\n",
    "    p_S2_S3_trt <- 1 - exp(-r_S2_S3_trt)\n",
    "    \n",
    "    r_S2_D <- -log(1 - p_S2_D)\n",
    "    r_S3_D <- hr_S3_D * r_S2_D\n",
    "    p_S3_D <- 1 - exp(-r_S3_D)\n",
    "    \n",
    "    list(r_S2_S3_unt = r_S2_S3_unt, r_S2_S3_trt = r_S2_S3_trt, p_S2_S3_trt = p_S2_S3_trt,\n",
    "         r_S2_D = r_S2_D, r_S3_D = r_S3_D, p_S3_D = p_S3_D)\n",
    "  })\n",
    "}"
   ]
  },
  {
   "cell_type": "code",
   "execution_count": 7,
   "metadata": {
    "vscode": {
     "languageId": "r"
    }
   },
   "outputs": [
    {
     "name": "stdout",
     "output_type": "stream",
     "text": [
      "$r_S2_S3_unt\n",
      "[1] 0.1498577\n",
      "\n",
      "$r_S2_S3_trt\n",
      "[1] 0.1090495\n",
      "\n",
      "$p_S2_S3_trt\n",
      "[1] 0.103314\n",
      "\n",
      "$r_S2_D\n",
      "[1] 5.268444e-05\n",
      "\n",
      "$r_S3_D\n",
      "[1] 6.282572e-06\n",
      "\n",
      "$p_S3_D\n",
      "[1] 6.282552e-06\n",
      "\n"
     ]
    }
   ],
   "source": [
    "# Extract parameters for the first row\n",
    "psa_table_row <- df_psa[1,]\n",
    "\n",
    "transition_rates <- calculate_transition_rates(psa_table_row)\n",
    "print(transition_rates)"
   ]
  },
  {
   "cell_type": "markdown",
   "metadata": {},
   "source": [
    "Our model uses discount rates : this means that costs and utilities are considered to decrease in value with time, since it is preferable to have funds/utility now rather than later. The Haute Autorité de Santé (HAS) recommends a discount rate of 4%, which is what our example is set to. Based on that discount rate, we calculate year-over-year the cumulative discounting that has happened : these are our discount weights. "
   ]
  },
  {
   "cell_type": "code",
   "execution_count": 9,
   "metadata": {
    "vscode": {
     "languageId": "r"
    }
   },
   "outputs": [],
   "source": [
    "calculate_discount_weights <- function(model_params) {\n",
    "  n_t <- model_params$n_t\n",
    "  d_r <- model_params$d_r\n",
    "  v_dwe <- v_dwc <- 1 / (1 + d_r) ^ (0:n_t)\n",
    "  list(v_dwe = v_dwe, v_dwc = v_dwc)\n",
    "}"
   ]
  },
  {
   "cell_type": "code",
   "execution_count": 10,
   "metadata": {
    "vscode": {
     "languageId": "r"
    }
   },
   "outputs": [
    {
     "name": "stdout",
     "output_type": "stream",
     "text": [
      "$v_dwe\n",
      "[1] 1.0000000 0.9615385 0.9245562 0.8889964 0.8548042 0.8219271 0.7903145\n",
      "[8] 0.7599178\n",
      "\n",
      "$v_dwc\n",
      "[1] 1.0000000 0.9615385 0.9245562 0.8889964 0.8548042 0.8219271 0.7903145\n",
      "[8] 0.7599178\n",
      "\n"
     ]
    }
   ],
   "source": [
    "discount_weights <- calculate_discount_weights(model_params)\n",
    "print(discount_weights)"
   ]
  },
  {
   "cell_type": "markdown",
   "metadata": {},
   "source": [
    "This part of the code generates transitions matrices. These matrices simply show the transition probabilities from each state to each state. There is one for each of our Markov models : the one with treatment, and the one without it. Of course, the only differences are the probabilities related to staying in Stage 2, or transitioning to Stage 3. "
   ]
  },
  {
   "cell_type": "code",
   "execution_count": 11,
   "metadata": {
    "vscode": {
     "languageId": "r"
    }
   },
   "outputs": [],
   "source": [
    "create_transition_matrices <- function(psa_table_row, transition_rates) {\n",
    "  with(as.list(psa_table_row), {\n",
    "    m_P_unt <- m_P_trt <- matrix(0, nrow = n_states, ncol = n_states, dimnames = list(v_n, v_n))\n",
    "    \n",
    "    # Untreated\n",
    "    m_P_unt[\"S2\", \"S2\"] <- 1 - (p_S2_S3_unt + p_S2_D)\n",
    "    m_P_unt[\"S2\", \"S3\"] <- p_S2_S3_unt\n",
    "    m_P_unt[\"S2\", \"D\"] <- p_S2_D\n",
    "    m_P_unt[\"S3\", \"S3\"] <- 1 - transition_rates$p_S3_D\n",
    "    m_P_unt[\"S3\", \"D\"] <- transition_rates$p_S3_D\n",
    "    m_P_unt[\"D\", \"D\"] <- 1\n",
    "    \n",
    "    # Treated\n",
    "    m_P_trt[\"S2\", \"S2\"] <- 1 - (transition_rates$p_S2_S3_trt + p_S2_D)\n",
    "    m_P_trt[\"S2\", \"S3\"] <- transition_rates$p_S2_S3_trt\n",
    "    m_P_trt[\"S2\", \"D\"] <- p_S2_D\n",
    "    m_P_trt[\"S3\", \"S3\"] <- 1 - transition_rates$p_S3_D\n",
    "    m_P_trt[\"S3\", \"D\"] <- transition_rates$p_S3_D\n",
    "    m_P_trt[\"D\", \"D\"] <- 1\n",
    "    \n",
    "    list(m_P_unt = m_P_unt, m_P_trt = m_P_trt)\n",
    "  })\n",
    "}"
   ]
  },
  {
   "cell_type": "code",
   "execution_count": 12,
   "metadata": {
    "vscode": {
     "languageId": "r"
    }
   },
   "outputs": [
    {
     "name": "stdout",
     "output_type": "stream",
     "text": [
      "$m_P_unt\n",
      "          S2        S3            D\n",
      "S2 0.8607778 0.1391695 5.268306e-05\n",
      "S3 0.0000000 0.9999937 6.282552e-06\n",
      "D  0.0000000 0.0000000 1.000000e+00\n",
      "\n",
      "$m_P_trt\n",
      "          S2        S3            D\n",
      "S2 0.8966333 0.1033140 5.268306e-05\n",
      "S3 0.0000000 0.9999937 6.282552e-06\n",
      "D  0.0000000 0.0000000 1.000000e+00\n",
      "\n"
     ]
    }
   ],
   "source": [
    "psa_table_row <- df_psa[1,]\n",
    "\n",
    "transition_matrices <- create_transition_matrices(psa_table_row, transition_rates)\n",
    "print(transition_matrices)"
   ]
  },
  {
   "cell_type": "markdown",
   "metadata": {},
   "source": [
    "Now that we have our transition probability matrices, we can build the actual Markov model. Through the given range of ages that the model is to be run at, we calculate the proportion of individuals that are to be in each state, based on our transition probabilities. "
   ]
  },
  {
   "cell_type": "code",
   "execution_count": 13,
   "metadata": {
    "vscode": {
     "languageId": "r"
    }
   },
   "outputs": [],
   "source": [
    "simulate_markov_traces <- function(model_params, transition_matrices) {\n",
    "  n_t <- model_params$n_t\n",
    "  m_TR_trt <- m_TR_unt <- matrix(NA, nrow = n_t + 1, ncol = n_states, dimnames = list(0:n_t, v_n))\n",
    "  m_TR_unt[1, ] <- m_TR_trt[1, ] <- c(1, 0, 0)\n",
    "  \n",
    "  for (t in 1:n_t) {\n",
    "    m_TR_unt[t + 1, ] <- m_TR_unt[t, ] %*% transition_matrices$m_P_unt\n",
    "    m_TR_trt[t + 1, ] <- m_TR_trt[t, ] %*% transition_matrices$m_P_trt\n",
    "  }\n",
    "  \n",
    "  list(m_TR_unt = m_TR_unt, m_TR_trt = m_TR_trt)\n",
    "}"
   ]
  },
  {
   "cell_type": "markdown",
   "metadata": {},
   "source": [
    "We can see here how the model runs for multiple iterations, until it reaches a final state, at the end of the given number of years.\n",
    "\n",
    "I find this to be the most interesting part, the core of Markov modeling. These tables show us what proportion of individuals were at which state, each year."
   ]
  },
  {
   "cell_type": "code",
   "execution_count": 14,
   "metadata": {
    "vscode": {
     "languageId": "r"
    }
   },
   "outputs": [
    {
     "name": "stdout",
     "output_type": "stream",
     "text": [
      "$m_TR_unt\n",
      "         S2        S3            D\n",
      "0 1.0000000 0.0000000 0.000000e+00\n",
      "1 0.8607778 0.1391695 5.268306e-05\n",
      "2 0.7409385 0.2589626 9.890580e-05\n",
      "3 0.6377834 0.3620770 1.395676e-04\n",
      "4 0.5489898 0.4508348 1.754428e-04\n",
      "5 0.4725582 0.5272346 2.071976e-04\n",
      "6 0.4067676 0.5929969 2.354058e-04\n",
      "7 0.3501366 0.6496029 2.605611e-04\n",
      "\n",
      "$m_TR_trt\n",
      "         S2        S3            D\n",
      "0 1.0000000 0.0000000 0.000000e+00\n",
      "1 0.8966333 0.1033140 5.268306e-05\n",
      "2 0.8039513 0.1959481 1.005695e-04\n",
      "3 0.7208495 0.2790063 1.441552e-04\n",
      "4 0.6463377 0.3534784 1.838846e-04\n",
      "5 0.5795279 0.4202519 2.201564e-04\n",
      "6 0.5196240 0.4801227 2.533279e-04\n",
      "7 0.4659122 0.5338041 2.837197e-04\n",
      "\n"
     ]
    }
   ],
   "source": [
    "markov_traces <- simulate_markov_traces(model_params, transition_matrices)\n",
    "print(markov_traces)"
   ]
  },
  {
   "cell_type": "markdown",
   "metadata": {},
   "source": [
    "The Markov trace is then used to calculate the costs and utilities, corresponding to the time spent in a state, multiplied by the cost and utility associated with the state. We also calculate the ICER."
   ]
  },
  {
   "cell_type": "code",
   "execution_count": 15,
   "metadata": {
    "vscode": {
     "languageId": "r"
    }
   },
   "outputs": [],
   "source": [
    "calculate_costs_qalys <- function(psa_table_row, markov_traces, discount_weights) {\n",
    "  with(as.list(psa_table_row), {\n",
    "    v_u <- c(u_S2, u_S3, u_D)\n",
    "    v_c_trt <- c(c_S2 + c_Trt_S2, c_S3, c_D)\n",
    "    v_c_unt <- c(c_S2, c_S3, c_D)\n",
    "    \n",
    "    v_E_unt <- markov_traces$m_TR_unt %*% v_u\n",
    "    v_E_trt <- markov_traces$m_TR_trt %*% v_u\n",
    "    v_C_unt <- markov_traces$m_TR_unt %*% v_c_unt\n",
    "    v_C_trt <- markov_traces$m_TR_trt %*% v_c_trt\n",
    "    \n",
    "    te_unt <- t(v_E_unt) %*% discount_weights$v_dwe\n",
    "    te_trt <- t(v_E_trt) %*% discount_weights$v_dwe\n",
    "    tc_unt <- t(v_C_unt) %*% discount_weights$v_dwc\n",
    "    tc_trt <- t(v_C_trt) %*% discount_weights$v_dwc\n",
    "    \n",
    "    results <- c(\n",
    "      \"Cost_NoTrt\" = tc_unt,\n",
    "      \"Cost_Trt\" = tc_trt,\n",
    "      \"QALY_NoTrt\" = te_unt,\n",
    "      \"QALY_Trt\" = te_trt,\n",
    "      \"ICER\" = (tc_trt - tc_unt) / (te_trt - te_unt)\n",
    "    )\n",
    "    return(results)\n",
    "  })\n",
    "}"
   ]
  },
  {
   "cell_type": "code",
   "execution_count": 16,
   "metadata": {
    "vscode": {
     "languageId": "r"
    }
   },
   "outputs": [
    {
     "name": "stdout",
     "output_type": "stream",
     "text": [
      "  Cost_NoTrt     Cost_Trt   QALY_NoTrt     QALY_Trt         ICER \n",
      "18334.580290 18216.317505     6.368598     6.521450  -773.704858 \n"
     ]
    }
   ],
   "source": [
    "psa_table_row <- df_psa[1,]\n",
    "results <- calculate_costs_qalys(psa_table_row, markov_traces, discount_weights)\n",
    "print(results)"
   ]
  },
  {
   "cell_type": "markdown",
   "metadata": {},
   "source": [
    "Now, all of the previously shown functions are in practice meant to be run all at once in our app, so we wrap them here."
   ]
  },
  {
   "cell_type": "code",
   "execution_count": 9,
   "metadata": {
    "vscode": {
     "languageId": "r"
    }
   },
   "outputs": [],
   "source": [
    "f_hybrid_markov_model <- function(psa_table_row, model_params) {\n",
    "  environment(create_transition_matrices) <- environment()\n",
    "  environment(simulate_markov_traces)     <- environment()\n",
    "\n",
    "  transition_rates <- calculate_transition_rates(psa_table_row)\n",
    "  discount_weights <- calculate_discount_weights(model_params)\n",
    "  transition_matrices <- create_transition_matrices(psa_table_row, transition_rates)\n",
    "  markov_traces <- simulate_markov_traces(model_params, transition_matrices)\n",
    "  results <- calculate_costs_qalys(psa_table_row, markov_traces, discount_weights)\n",
    "  return(results)\n",
    "}"
   ]
  },
  {
   "cell_type": "markdown",
   "metadata": {},
   "source": [
    "A second wrapper function accesses the `psa_params` and `model_params` data frames, defines the necessary variables previously set in the environment, and runs our Markov model for the necessary number of times. It therefore outputs the costs and utilities for both treated and untreated groups, as well as the ICER, for each simulation performed. These data can later be represented on a plot, and their averages on a table."
   ]
  },
  {
   "cell_type": "code",
   "execution_count": 16,
   "metadata": {
    "vscode": {
     "languageId": "r"
    }
   },
   "outputs": [],
   "source": [
    "\n",
    "f_wrapper <- function(psa_params, model_params) {\n",
    "  # need to specify environment of inner functions (to use outer function enviroment)\n",
    "  # alternatively - define functions within the wrapper function.\n",
    "  environment(f_gen_psa)               <- environment()\n",
    "  environment(f_hybrid_markov_model)   <- environment()\n",
    "\n",
    "  df_psa <- f_gen_psa(psa_params, model_params)\n",
    "\n",
    "  # the 4 health states of the model:\n",
    "  v_n <- c(\"S2\", \"S3\", \"D\") \n",
    "  # number of health states \n",
    "  n_states <- length(v_n) \n",
    "\n",
    "  n_sim <- model_params$n_sim\n",
    "\n",
    "  # Initialize matrix of results outcomes\n",
    "  m_out <- matrix(NaN, \n",
    "                  nrow = n_sim, \n",
    "                  ncol = 5,\n",
    "                  dimnames = list(1:n_sim,\n",
    "                                  c(\"Cost_NoTrt\", \"Cost_Trt\",\n",
    "                                    \"QALY_NoTrt\", \"QALY_Trt\",\n",
    "                                    \"ICER\")))\n",
    "\n",
    "  # run model for each row of PSA inputs\n",
    "  for(i in 1:n_sim){\n",
    "\n",
    "    # store results in row of results matrix\n",
    "    m_out[i,] <- f_hybrid_markov_model(df_psa[i, ], model_params)\n",
    "\n",
    "  } # close model loop\n",
    "\n",
    "\n",
    "  #-- Return results --#\n",
    "\n",
    "  # convert matrix to dataframe (for plots)\n",
    "  df_out <- as.data.frame(m_out) \n",
    "\n",
    "  # output the dataframe from the function  \n",
    "  return(df_out) \n",
    "}\n",
    "\n",
    "df_out <- f_wrapper(default_psa_params, model_params)"
   ]
  },
  {
   "cell_type": "code",
   "execution_count": 17,
   "metadata": {
    "vscode": {
     "languageId": "r"
    }
   },
   "outputs": [
    {
     "name": "stdout",
     "output_type": "stream",
     "text": [
      "  Cost_NoTrt Cost_Trt QALY_NoTrt QALY_Trt       ICER\n",
      "1   18356.83 18037.86   6.406952 6.538932  -2416.865\n",
      "2   20203.63 20770.59   6.339922 6.388120  11763.195\n",
      "3   21993.34 20407.81   6.154789 6.460931  -5179.078\n",
      "4   19134.06 19212.13   6.189467 6.305177    674.669\n",
      "5   22150.18 22967.13   6.451873 6.454089 368710.616\n",
      "6   17324.08 16458.24   6.146497 6.391474  -3534.381\n"
     ]
    }
   ],
   "source": [
    "print(head(df_out))"
   ]
  }
 ],
 "metadata": {
  "kernelspec": {
   "display_name": "R",
   "language": "R",
   "name": "ir"
  },
  "language_info": {
   "codemirror_mode": "r",
   "file_extension": ".r",
   "mimetype": "text/x-r-source",
   "name": "R",
   "pygments_lexer": "r",
   "version": "4.4.2"
  }
 },
 "nbformat": 4,
 "nbformat_minor": 2
}
